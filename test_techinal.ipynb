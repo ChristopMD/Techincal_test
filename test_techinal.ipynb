{
 "cells": [
  {
   "cell_type": "code",
   "execution_count": 84,
   "id": "d93aadf8",
   "metadata": {},
   "outputs": [],
   "source": [
    "import numpy as np\n",
    "import pandas as pd\n",
    "import matplotlib.pyplot as plt\n",
    "import seaborn as sns\n",
    "from sklearn.model_selection import train_test_split\n",
    "from sklearn.preprocessing import StandardScaler\n",
    "from sklearn.neural_network import MLPClassifier"
   ]
  },
  {
   "cell_type": "code",
   "execution_count": 85,
   "id": "2ba7a709",
   "metadata": {},
   "outputs": [],
   "source": [
    "df = pd.read_csv('guatedata.csv')"
   ]
  },
  {
   "cell_type": "code",
   "execution_count": 86,
   "id": "9c0adafe",
   "metadata": {},
   "outputs": [
    {
     "data": {
      "text/html": [
       "<div>\n",
       "<style scoped>\n",
       "    .dataframe tbody tr th:only-of-type {\n",
       "        vertical-align: middle;\n",
       "    }\n",
       "\n",
       "    .dataframe tbody tr th {\n",
       "        vertical-align: top;\n",
       "    }\n",
       "\n",
       "    .dataframe thead th {\n",
       "        text-align: right;\n",
       "    }\n",
       "</style>\n",
       "<table border=\"1\" class=\"dataframe\">\n",
       "  <thead>\n",
       "    <tr style=\"text-align: right;\">\n",
       "      <th></th>\n",
       "      <th>vedadc_n</th>\n",
       "      <th>vantig_n</th>\n",
       "      <th>vnline_n</th>\n",
       "      <th>vgamma_c</th>\n",
       "      <th>veaseg_c</th>\n",
       "      <th>vctcpl_n</th>\n",
       "      <th>vccdeu_n</th>\n",
       "      <th>vccdeu_n.1</th>\n",
       "      <th>ttkbco_n</th>\n",
       "      <th>vtarge_c</th>\n",
       "    </tr>\n",
       "  </thead>\n",
       "  <tbody>\n",
       "    <tr>\n",
       "      <th>0</th>\n",
       "      <td>60.0</td>\n",
       "      <td>NaN</td>\n",
       "      <td>1</td>\n",
       "      <td>PREMIUM PLUS</td>\n",
       "      <td>n</td>\n",
       "      <td>45</td>\n",
       "      <td>1</td>\n",
       "      <td>1</td>\n",
       "      <td>2439779</td>\n",
       "      <td>0</td>\n",
       "    </tr>\n",
       "    <tr>\n",
       "      <th>1</th>\n",
       "      <td>66.0</td>\n",
       "      <td>NaN</td>\n",
       "      <td>1</td>\n",
       "      <td>ALTA</td>\n",
       "      <td>n</td>\n",
       "      <td>71</td>\n",
       "      <td>8</td>\n",
       "      <td>8</td>\n",
       "      <td>0</td>\n",
       "      <td>0</td>\n",
       "    </tr>\n",
       "    <tr>\n",
       "      <th>2</th>\n",
       "      <td>NaN</td>\n",
       "      <td>141.0</td>\n",
       "      <td>1</td>\n",
       "      <td>PREMIUM</td>\n",
       "      <td>n</td>\n",
       "      <td>73</td>\n",
       "      <td>25</td>\n",
       "      <td>25</td>\n",
       "      <td>0</td>\n",
       "      <td>0</td>\n",
       "    </tr>\n",
       "    <tr>\n",
       "      <th>3</th>\n",
       "      <td>116.0</td>\n",
       "      <td>NaN</td>\n",
       "      <td>2</td>\n",
       "      <td>NaN</td>\n",
       "      <td>n</td>\n",
       "      <td>7</td>\n",
       "      <td>0</td>\n",
       "      <td>0</td>\n",
       "      <td>0</td>\n",
       "      <td>0</td>\n",
       "    </tr>\n",
       "    <tr>\n",
       "      <th>4</th>\n",
       "      <td>50.0</td>\n",
       "      <td>NaN</td>\n",
       "      <td>3</td>\n",
       "      <td>ALTA</td>\n",
       "      <td>n</td>\n",
       "      <td>42</td>\n",
       "      <td>7</td>\n",
       "      <td>7</td>\n",
       "      <td>1969990</td>\n",
       "      <td>0</td>\n",
       "    </tr>\n",
       "  </tbody>\n",
       "</table>\n",
       "</div>"
      ],
      "text/plain": [
       "   vedadc_n  vantig_n  vnline_n      vgamma_c veaseg_c  vctcpl_n  vccdeu_n  \\\n",
       "0      60.0       NaN         1  PREMIUM PLUS        n        45         1   \n",
       "1      66.0       NaN         1          ALTA        n        71         8   \n",
       "2       NaN     141.0         1       PREMIUM        n        73        25   \n",
       "3     116.0       NaN         2           NaN        n         7         0   \n",
       "4      50.0       NaN         3          ALTA        n        42         7   \n",
       "\n",
       "   vccdeu_n.1  ttkbco_n  vtarge_c  \n",
       "0           1   2439779         0  \n",
       "1           8         0         0  \n",
       "2          25         0         0  \n",
       "3           0         0         0  \n",
       "4           7   1969990         0  "
      ]
     },
     "execution_count": 86,
     "metadata": {},
     "output_type": "execute_result"
    }
   ],
   "source": [
    "df.head()"
   ]
  },
  {
   "cell_type": "code",
   "execution_count": 87,
   "id": "d9217f73",
   "metadata": {},
   "outputs": [
    {
     "data": {
      "text/plain": [
       "(926, 10)"
      ]
     },
     "execution_count": 87,
     "metadata": {},
     "output_type": "execute_result"
    }
   ],
   "source": [
    "df.shape"
   ]
  },
  {
   "cell_type": "code",
   "execution_count": 88,
   "id": "c1dcc466",
   "metadata": {},
   "outputs": [
    {
     "data": {
      "text/plain": [
       "vedadc_n      float64\n",
       "vantig_n      float64\n",
       "vnline_n        int64\n",
       "vgamma_c       object\n",
       "veaseg_c       object\n",
       "vctcpl_n        int64\n",
       "vccdeu_n        int64\n",
       "vccdeu_n.1      int64\n",
       "ttkbco_n        int64\n",
       "vtarge_c        int64\n",
       "dtype: object"
      ]
     },
     "execution_count": 88,
     "metadata": {},
     "output_type": "execute_result"
    }
   ],
   "source": [
    "df.dtypes"
   ]
  },
  {
   "cell_type": "code",
   "execution_count": 89,
   "id": "f2d934ad",
   "metadata": {},
   "outputs": [
    {
     "data": {
      "text/plain": [
       "vedadc_n       True\n",
       "vantig_n       True\n",
       "vnline_n      False\n",
       "vgamma_c       True\n",
       "veaseg_c      False\n",
       "vctcpl_n      False\n",
       "vccdeu_n      False\n",
       "vccdeu_n.1    False\n",
       "ttkbco_n      False\n",
       "vtarge_c      False\n",
       "dtype: bool"
      ]
     },
     "execution_count": 89,
     "metadata": {},
     "output_type": "execute_result"
    }
   ],
   "source": [
    "#que columnas tiene valores nulos\n",
    "df.isna().any()"
   ]
  },
  {
   "cell_type": "code",
   "execution_count": 90,
   "id": "416753d3",
   "metadata": {},
   "outputs": [
    {
     "data": {
      "text/plain": [
       "vedadc_n      148\n",
       "vantig_n      430\n",
       "vnline_n        0\n",
       "vgamma_c      192\n",
       "veaseg_c        0\n",
       "vctcpl_n        0\n",
       "vccdeu_n        0\n",
       "vccdeu_n.1      0\n",
       "ttkbco_n        0\n",
       "vtarge_c        0\n",
       "dtype: int64"
      ]
     },
     "execution_count": 90,
     "metadata": {},
     "output_type": "execute_result"
    }
   ],
   "source": [
    "#cuantos valores nulos hay en cada columna\n",
    "df.isna().sum()"
   ]
  },
  {
   "cell_type": "code",
   "execution_count": 91,
   "id": "f077eb61",
   "metadata": {},
   "outputs": [],
   "source": [
    "#rellenamos los valores nulos con el promedio\n",
    "df = df.fillna(df.mean())"
   ]
  },
  {
   "cell_type": "code",
   "execution_count": 92,
   "id": "d65f4d49",
   "metadata": {},
   "outputs": [],
   "source": [
    "#eliminamos la variable vgamma_c(ganma del equipo) y la variable repetida vccdeu_n.1\n",
    "df.drop(['vgamma_c', 'vccdeu_n.1'], axis=1, inplace=True)"
   ]
  },
  {
   "cell_type": "code",
   "execution_count": 93,
   "id": "955032c2",
   "metadata": {},
   "outputs": [
    {
     "data": {
      "text/html": [
       "<div>\n",
       "<style scoped>\n",
       "    .dataframe tbody tr th:only-of-type {\n",
       "        vertical-align: middle;\n",
       "    }\n",
       "\n",
       "    .dataframe tbody tr th {\n",
       "        vertical-align: top;\n",
       "    }\n",
       "\n",
       "    .dataframe thead th {\n",
       "        text-align: right;\n",
       "    }\n",
       "</style>\n",
       "<table border=\"1\" class=\"dataframe\">\n",
       "  <thead>\n",
       "    <tr style=\"text-align: right;\">\n",
       "      <th></th>\n",
       "      <th>vedadc_n</th>\n",
       "      <th>vantig_n</th>\n",
       "      <th>vnline_n</th>\n",
       "      <th>veaseg_c</th>\n",
       "      <th>vctcpl_n</th>\n",
       "      <th>vccdeu_n</th>\n",
       "      <th>ttkbco_n</th>\n",
       "      <th>vtarge_c</th>\n",
       "    </tr>\n",
       "  </thead>\n",
       "  <tbody>\n",
       "    <tr>\n",
       "      <th>0</th>\n",
       "      <td>60.000000</td>\n",
       "      <td>101.177419</td>\n",
       "      <td>1</td>\n",
       "      <td>n</td>\n",
       "      <td>45</td>\n",
       "      <td>1</td>\n",
       "      <td>2439779</td>\n",
       "      <td>0</td>\n",
       "    </tr>\n",
       "    <tr>\n",
       "      <th>1</th>\n",
       "      <td>66.000000</td>\n",
       "      <td>101.177419</td>\n",
       "      <td>1</td>\n",
       "      <td>n</td>\n",
       "      <td>71</td>\n",
       "      <td>8</td>\n",
       "      <td>0</td>\n",
       "      <td>0</td>\n",
       "    </tr>\n",
       "    <tr>\n",
       "      <th>2</th>\n",
       "      <td>53.474293</td>\n",
       "      <td>141.000000</td>\n",
       "      <td>1</td>\n",
       "      <td>n</td>\n",
       "      <td>73</td>\n",
       "      <td>25</td>\n",
       "      <td>0</td>\n",
       "      <td>0</td>\n",
       "    </tr>\n",
       "    <tr>\n",
       "      <th>3</th>\n",
       "      <td>116.000000</td>\n",
       "      <td>101.177419</td>\n",
       "      <td>2</td>\n",
       "      <td>n</td>\n",
       "      <td>7</td>\n",
       "      <td>0</td>\n",
       "      <td>0</td>\n",
       "      <td>0</td>\n",
       "    </tr>\n",
       "    <tr>\n",
       "      <th>4</th>\n",
       "      <td>50.000000</td>\n",
       "      <td>101.177419</td>\n",
       "      <td>3</td>\n",
       "      <td>n</td>\n",
       "      <td>42</td>\n",
       "      <td>7</td>\n",
       "      <td>1969990</td>\n",
       "      <td>0</td>\n",
       "    </tr>\n",
       "  </tbody>\n",
       "</table>\n",
       "</div>"
      ],
      "text/plain": [
       "     vedadc_n    vantig_n  vnline_n veaseg_c  vctcpl_n  vccdeu_n  ttkbco_n  \\\n",
       "0   60.000000  101.177419         1        n        45         1   2439779   \n",
       "1   66.000000  101.177419         1        n        71         8         0   \n",
       "2   53.474293  141.000000         1        n        73        25         0   \n",
       "3  116.000000  101.177419         2        n         7         0         0   \n",
       "4   50.000000  101.177419         3        n        42         7   1969990   \n",
       "\n",
       "   vtarge_c  \n",
       "0         0  \n",
       "1         0  \n",
       "2         0  \n",
       "3         0  \n",
       "4         0  "
      ]
     },
     "execution_count": 93,
     "metadata": {},
     "output_type": "execute_result"
    }
   ],
   "source": [
    "df.head()"
   ]
  },
  {
   "cell_type": "code",
   "execution_count": 94,
   "id": "0fa6bd02",
   "metadata": {},
   "outputs": [
    {
     "name": "stdout",
     "output_type": "stream",
     "text": [
      "['n' 's']\n"
     ]
    }
   ],
   "source": [
    "df['veaseg_c'] = df['veaseg_c'].replace(['no'], ['n'])\n",
    "print(df['veaseg_c'].unique())"
   ]
  },
  {
   "cell_type": "code",
   "execution_count": 95,
   "id": "a77a64f5",
   "metadata": {},
   "outputs": [
    {
     "name": "stdout",
     "output_type": "stream",
     "text": [
      "[0 1]\n"
     ]
    }
   ],
   "source": [
    "df['veaseg_c'] = df['veaseg_c'].replace(['n', 's'], ['0','1'])\n",
    "df['veaseg_c'] = df['veaseg_c'].astype(int)\n",
    "print(df['veaseg_c'].unique())"
   ]
  },
  {
   "cell_type": "code",
   "execution_count": 96,
   "id": "be5c92bf",
   "metadata": {},
   "outputs": [
    {
     "data": {
      "text/plain": [
       "vedadc_n    float64\n",
       "vantig_n    float64\n",
       "vnline_n      int64\n",
       "veaseg_c      int32\n",
       "vctcpl_n      int64\n",
       "vccdeu_n      int64\n",
       "ttkbco_n      int64\n",
       "vtarge_c      int64\n",
       "dtype: object"
      ]
     },
     "execution_count": 96,
     "metadata": {},
     "output_type": "execute_result"
    }
   ],
   "source": [
    "df.dtypes"
   ]
  },
  {
   "cell_type": "code",
   "execution_count": 97,
   "id": "5b5e8d0d",
   "metadata": {},
   "outputs": [
    {
     "data": {
      "image/png": "[encoded data removed]",
      "text/plain": [
       "<Figure size 432x288 with 2 Axes>"
      ]
     },
     "metadata": {
      "needs_background": "light"
     },
     "output_type": "display_data"
    }
   ],
   "source": [
    "#Heatmap\n",
    "import seaborn as sns\n",
    "sns.heatmap(df.loc[:,['vedadc_n','vantig_n','vnline_n','veaseg_c', 'vctcpl_n', 'vccdeu_n', 'ttkbco_n', 'vtarge_c']].corr())\n",
    "plt.show()"
   ]
  },
  {
   "cell_type": "code",
   "execution_count": 98,
   "id": "4e706c9a",
   "metadata": {},
   "outputs": [],
   "source": [
    "#Elimnamos las variables vantig_n, vctcpl_n, ttkbco_n, ya que tienen una menor correlacion con el target\n",
    "df.drop(['vantig_n','vctcpl_n', 'ttkbco_n'], axis=1, inplace=True)"
   ]
  },
  {
   "cell_type": "code",
   "execution_count": 99,
   "id": "35537c49",
   "metadata": {},
   "outputs": [
    {
     "data": {
      "text/html": [
       "<div>\n",
       "<style scoped>\n",
       "    .dataframe tbody tr th:only-of-type {\n",
       "        vertical-align: middle;\n",
       "    }\n",
       "\n",
       "    .dataframe tbody tr th {\n",
       "        vertical-align: top;\n",
       "    }\n",
       "\n",
       "    .dataframe thead th {\n",
       "        text-align: right;\n",
       "    }\n",
       "</style>\n",
       "<table border=\"1\" class=\"dataframe\">\n",
       "  <thead>\n",
       "    <tr style=\"text-align: right;\">\n",
       "      <th></th>\n",
       "      <th>vedadc_n</th>\n",
       "      <th>vnline_n</th>\n",
       "      <th>veaseg_c</th>\n",
       "      <th>vccdeu_n</th>\n",
       "      <th>vtarge_c</th>\n",
       "    </tr>\n",
       "  </thead>\n",
       "  <tbody>\n",
       "    <tr>\n",
       "      <th>0</th>\n",
       "      <td>60.000000</td>\n",
       "      <td>1</td>\n",
       "      <td>0</td>\n",
       "      <td>1</td>\n",
       "      <td>0</td>\n",
       "    </tr>\n",
       "    <tr>\n",
       "      <th>1</th>\n",
       "      <td>66.000000</td>\n",
       "      <td>1</td>\n",
       "      <td>0</td>\n",
       "      <td>8</td>\n",
       "      <td>0</td>\n",
       "    </tr>\n",
       "    <tr>\n",
       "      <th>2</th>\n",
       "      <td>53.474293</td>\n",
       "      <td>1</td>\n",
       "      <td>0</td>\n",
       "      <td>25</td>\n",
       "      <td>0</td>\n",
       "    </tr>\n",
       "    <tr>\n",
       "      <th>3</th>\n",
       "      <td>116.000000</td>\n",
       "      <td>2</td>\n",
       "      <td>0</td>\n",
       "      <td>0</td>\n",
       "      <td>0</td>\n",
       "    </tr>\n",
       "    <tr>\n",
       "      <th>4</th>\n",
       "      <td>50.000000</td>\n",
       "      <td>3</td>\n",
       "      <td>0</td>\n",
       "      <td>7</td>\n",
       "      <td>0</td>\n",
       "    </tr>\n",
       "  </tbody>\n",
       "</table>\n",
       "</div>"
      ],
      "text/plain": [
       "     vedadc_n  vnline_n  veaseg_c  vccdeu_n  vtarge_c\n",
       "0   60.000000         1         0         1         0\n",
       "1   66.000000         1         0         8         0\n",
       "2   53.474293         1         0        25         0\n",
       "3  116.000000         2         0         0         0\n",
       "4   50.000000         3         0         7         0"
      ]
     },
     "execution_count": 99,
     "metadata": {},
     "output_type": "execute_result"
    }
   ],
   "source": [
    "df.head()"
   ]
  },
  {
   "cell_type": "code",
   "execution_count": 100,
   "id": "61df5dcb",
   "metadata": {},
   "outputs": [
    {
     "data": {
      "text/plain": [
       "(926, 5)"
      ]
     },
     "execution_count": 100,
     "metadata": {},
     "output_type": "execute_result"
    }
   ],
   "source": [
    "df.shape"
   ]
  },
  {
   "cell_type": "code",
   "execution_count": 101,
   "id": "6e8cf33a",
   "metadata": {},
   "outputs": [],
   "source": [
    "#Objetivo del negocio: Reducir la tasa de clientes que migran.\n",
    "#Objetivo del data mining: Crear un modelo que permita predecir qué clientes migrarán, en base a la data brindada por la empresa de telecomunicaciones."
   ]
  },
  {
   "cell_type": "code",
   "execution_count": 102,
   "id": "bd0ca3ce",
   "metadata": {},
   "outputs": [],
   "source": [
    "#Separamos las variables en x e y\n",
    "X = df[['vedadc_n','vnline_n','veaseg_c','vccdeu_n']]\n",
    "y = df['vtarge_c'] #target"
   ]
  },
  {
   "cell_type": "code",
   "execution_count": 103,
   "id": "5bc66df8",
   "metadata": {},
   "outputs": [],
   "source": [
    "#dividmos la data en data de entrenamiento y de test con un promedio de 80% y 20%\n",
    "X_train, X_test, y_train, y_test = train_test_split(X, y, test_size = 0.20, random_state = 0)"
   ]
  },
  {
   "cell_type": "code",
   "execution_count": 104,
   "id": "f400d4ed",
   "metadata": {},
   "outputs": [],
   "source": [
    "#Normalizamos la data\n",
    "X_train = StandardScaler().fit_transform(X_train)\n",
    "X_test = StandardScaler().fit_transform(X_test)"
   ]
  },
  {
   "cell_type": "code",
   "execution_count": 105,
   "id": "43dab34d",
   "metadata": {},
   "outputs": [
    {
     "name": "stderr",
     "output_type": "stream",
     "text": [
      "D:\\Programas\\Anaconda\\lib\\site-packages\\sklearn\\neural_network\\_multilayer_perceptron.py:617: ConvergenceWarning: Stochastic Optimizer: Maximum iterations (500) reached and the optimization hasn't converged yet.\n",
      "  % self.max_iter, ConvergenceWarning)\n"
     ]
    }
   ],
   "source": [
    "#Implementar la Red Neuronal \n",
    "classifier = MLPClassifier(hidden_layer_sizes=(10,10,10), max_iter=500, alpha=0.0001,\n",
    "                     solver='adam', random_state=21,tol=0.000000001).fit(X_train, y_train)"
   ]
  },
  {
   "cell_type": "code",
   "execution_count": 106,
   "id": "a101ccae",
   "metadata": {},
   "outputs": [],
   "source": [
    "from sklearn.metrics import classification_report, confusion_matrix\n",
    "from sklearn.metrics import plot_confusion_matrix\n",
    "from sklearn.metrics import roc_curve, auc, roc_auc_score"
   ]
  },
  {
   "cell_type": "code",
   "execution_count": 108,
   "id": "350348f3",
   "metadata": {},
   "outputs": [
    {
     "name": "stdout",
     "output_type": "stream",
     "text": [
      "roc:  0.7938075537168024\n"
     ]
    }
   ],
   "source": [
    "#curva ROC\n",
    "y_pred_prob = classifier.predict_proba(X_test)\n",
    "false_positive_rate, true_positive_rate, thresholds = roc_curve(y_test, y_pred_prob[:,1])\n",
    "roc_auc = auc(false_positive_rate, true_positive_rate)\n",
    "print('roc: ', roc_auc)"
   ]
  },
  {
   "cell_type": "code",
   "execution_count": 109,
   "id": "684e3262",
   "metadata": {},
   "outputs": [
    {
     "data": {
      "image/png": "[encoded data removed]",
      "text/plain": [
       "<Figure size 432x288 with 1 Axes>"
      ]
     },
     "metadata": {
      "needs_background": "light"
     },
     "output_type": "display_data"
    }
   ],
   "source": [
    "plt.title('Receiver Operating Characteristic')\n",
    "plt.plot(false_positive_rate,true_positive_rate, color='red',label = 'AUC = %0.2f' % roc_auc)\n",
    "plt.legend(loc = 'lower right')\n",
    "plt.plot([0, 1], [0, 1],linestyle='--')\n",
    "plt.axis('tight')\n",
    "plt.ylabel('True Positive Rate')\n",
    "plt.xlabel('False Positive Rate')\n",
    "plt.show()"
   ]
  },
  {
   "cell_type": "code",
   "execution_count": 110,
   "id": "2421f030",
   "metadata": {},
   "outputs": [
    {
     "data": {
      "text/html": [
       "<div>\n",
       "<style scoped>\n",
       "    .dataframe tbody tr th:only-of-type {\n",
       "        vertical-align: middle;\n",
       "    }\n",
       "\n",
       "    .dataframe tbody tr th {\n",
       "        vertical-align: top;\n",
       "    }\n",
       "\n",
       "    .dataframe thead th {\n",
       "        text-align: right;\n",
       "    }\n",
       "</style>\n",
       "<table border=\"1\" class=\"dataframe\">\n",
       "  <thead>\n",
       "    <tr style=\"text-align: right;\">\n",
       "      <th></th>\n",
       "      <th>vedadc_n</th>\n",
       "      <th>vnline_n</th>\n",
       "      <th>veaseg_c</th>\n",
       "      <th>vccdeu_n</th>\n",
       "      <th>vtarge_c</th>\n",
       "      <th>vtarge_c_Pred</th>\n",
       "      <th>vtarge_c_Pred_Prob_0</th>\n",
       "      <th>vtarge_c_Pred_Prob_1</th>\n",
       "    </tr>\n",
       "  </thead>\n",
       "  <tbody>\n",
       "    <tr>\n",
       "      <th>0</th>\n",
       "      <td>0.475192</td>\n",
       "      <td>0.806855</td>\n",
       "      <td>-0.14825</td>\n",
       "      <td>-0.423213</td>\n",
       "      <td>0</td>\n",
       "      <td>0</td>\n",
       "      <td>0.898632</td>\n",
       "      <td>0.101368</td>\n",
       "    </tr>\n",
       "    <tr>\n",
       "      <th>1</th>\n",
       "      <td>0.161211</td>\n",
       "      <td>0.074782</td>\n",
       "      <td>-0.14825</td>\n",
       "      <td>-0.308465</td>\n",
       "      <td>0</td>\n",
       "      <td>0</td>\n",
       "      <td>0.830094</td>\n",
       "      <td>0.169906</td>\n",
       "    </tr>\n",
       "    <tr>\n",
       "      <th>2</th>\n",
       "      <td>1.237717</td>\n",
       "      <td>-0.657292</td>\n",
       "      <td>-0.14825</td>\n",
       "      <td>-0.652711</td>\n",
       "      <td>0</td>\n",
       "      <td>0</td>\n",
       "      <td>0.961860</td>\n",
       "      <td>0.038140</td>\n",
       "    </tr>\n",
       "    <tr>\n",
       "      <th>3</th>\n",
       "      <td>0.003068</td>\n",
       "      <td>1.538929</td>\n",
       "      <td>-0.14825</td>\n",
       "      <td>-0.537962</td>\n",
       "      <td>1</td>\n",
       "      <td>0</td>\n",
       "      <td>0.727274</td>\n",
       "      <td>0.272726</td>\n",
       "    </tr>\n",
       "    <tr>\n",
       "      <th>4</th>\n",
       "      <td>-1.363838</td>\n",
       "      <td>-0.657292</td>\n",
       "      <td>-0.14825</td>\n",
       "      <td>-0.423213</td>\n",
       "      <td>1</td>\n",
       "      <td>1</td>\n",
       "      <td>0.223669</td>\n",
       "      <td>0.776331</td>\n",
       "    </tr>\n",
       "    <tr>\n",
       "      <th>5</th>\n",
       "      <td>-0.197624</td>\n",
       "      <td>-0.657292</td>\n",
       "      <td>-0.14825</td>\n",
       "      <td>0.150531</td>\n",
       "      <td>0</td>\n",
       "      <td>0</td>\n",
       "      <td>0.708954</td>\n",
       "      <td>0.291046</td>\n",
       "    </tr>\n",
       "    <tr>\n",
       "      <th>6</th>\n",
       "      <td>0.430338</td>\n",
       "      <td>-0.657292</td>\n",
       "      <td>-0.14825</td>\n",
       "      <td>-0.652711</td>\n",
       "      <td>0</td>\n",
       "      <td>0</td>\n",
       "      <td>0.929119</td>\n",
       "      <td>0.070881</td>\n",
       "    </tr>\n",
       "    <tr>\n",
       "      <th>7</th>\n",
       "      <td>0.430338</td>\n",
       "      <td>3.003076</td>\n",
       "      <td>-0.14825</td>\n",
       "      <td>-0.652711</td>\n",
       "      <td>0</td>\n",
       "      <td>0</td>\n",
       "      <td>0.843695</td>\n",
       "      <td>0.156305</td>\n",
       "    </tr>\n",
       "    <tr>\n",
       "      <th>8</th>\n",
       "      <td>0.385483</td>\n",
       "      <td>-0.657292</td>\n",
       "      <td>-0.14825</td>\n",
       "      <td>-0.652711</td>\n",
       "      <td>0</td>\n",
       "      <td>0</td>\n",
       "      <td>0.923181</td>\n",
       "      <td>0.076819</td>\n",
       "    </tr>\n",
       "    <tr>\n",
       "      <th>9</th>\n",
       "      <td>0.071502</td>\n",
       "      <td>-0.657292</td>\n",
       "      <td>-0.14825</td>\n",
       "      <td>0.035782</td>\n",
       "      <td>0</td>\n",
       "      <td>0</td>\n",
       "      <td>0.814320</td>\n",
       "      <td>0.185680</td>\n",
       "    </tr>\n",
       "  </tbody>\n",
       "</table>\n",
       "</div>"
      ],
      "text/plain": [
       "   vedadc_n  vnline_n  veaseg_c  vccdeu_n  vtarge_c  vtarge_c_Pred  \\\n",
       "0  0.475192  0.806855  -0.14825 -0.423213         0              0   \n",
       "1  0.161211  0.074782  -0.14825 -0.308465         0              0   \n",
       "2  1.237717 -0.657292  -0.14825 -0.652711         0              0   \n",
       "3  0.003068  1.538929  -0.14825 -0.537962         1              0   \n",
       "4 -1.363838 -0.657292  -0.14825 -0.423213         1              1   \n",
       "5 -0.197624 -0.657292  -0.14825  0.150531         0              0   \n",
       "6  0.430338 -0.657292  -0.14825 -0.652711         0              0   \n",
       "7  0.430338  3.003076  -0.14825 -0.652711         0              0   \n",
       "8  0.385483 -0.657292  -0.14825 -0.652711         0              0   \n",
       "9  0.071502 -0.657292  -0.14825  0.035782         0              0   \n",
       "\n",
       "   vtarge_c_Pred_Prob_0  vtarge_c_Pred_Prob_1  \n",
       "0              0.898632              0.101368  \n",
       "1              0.830094              0.169906  \n",
       "2              0.961860              0.038140  \n",
       "3              0.727274              0.272726  \n",
       "4              0.223669              0.776331  \n",
       "5              0.708954              0.291046  \n",
       "6              0.929119              0.070881  \n",
       "7              0.843695              0.156305  \n",
       "8              0.923181              0.076819  \n",
       "9              0.814320              0.185680  "
      ]
     },
     "execution_count": 110,
     "metadata": {},
     "output_type": "execute_result"
    }
   ],
   "source": [
    "#Presentar la matriz de datos final\n",
    "dataf = pd.concat([pd.DataFrame(X_test),pd.DataFrame(y_test).reset_index(drop=True),pd.DataFrame(y_pred),pd.DataFrame(y_pred_prob)],axis=1)\n",
    "dataf.columns = ['vedadc_n','vnline_n','veaseg_c','vccdeu_n', 'vtarge_c','vtarge_c_Pred', 'vtarge_c_Pred_Prob_0', 'vtarge_c_Pred_Prob_1']\n",
    "dataf.head(10)"
   ]
  },
  {
   "cell_type": "code",
   "execution_count": 111,
   "id": "41585f75",
   "metadata": {},
   "outputs": [],
   "source": [
    "import pickle"
   ]
  },
  {
   "cell_type": "code",
   "execution_count": 112,
   "id": "c7b77815",
   "metadata": {},
   "outputs": [],
   "source": [
    "#save model\n",
    "model_saved_ann = 'model_ann_pred.pkl'\n",
    "pickle.dump(classifier, open(model_saved_ann, 'wb'))"
   ]
  },
  {
   "cell_type": "code",
   "execution_count": 113,
   "id": "73b117c4",
   "metadata": {},
   "outputs": [
    {
     "name": "stdout",
     "output_type": "stream",
     "text": [
      "0.7634408602150538\n"
     ]
    }
   ],
   "source": [
    "# load the model from disk\n",
    "loaded_model = pickle.load(open(model_saved_ann, 'rb'))\n",
    "result = loaded_model.score(X_test, y_test)\n",
    "print(result)"
   ]
  },
  {
   "cell_type": "code",
   "execution_count": null,
   "id": "dbc7e892",
   "metadata": {},
   "outputs": [],
   "source": []
  }
 ],
 "metadata": {
  "kernelspec": {
   "display_name": "Python 3",
   "language": "python",
   "name": "python3"
  },
  "language_info": {
   "codemirror_mode": {
    "name": "ipython",
    "version": 3
   },
   "file_extension": ".py",
   "mimetype": "text/x-python",
   "name": "python",
   "nbconvert_exporter": "python",
   "pygments_lexer": "ipython3",
   "version": "3.7.3"
  }
 },
 "nbformat": 4,
 "nbformat_minor": 5
}
